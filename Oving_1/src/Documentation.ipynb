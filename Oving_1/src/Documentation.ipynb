{
 "cells": [
  {
   "cell_type": "code",
   "execution_count": 2,
   "metadata": {
    "collapsed": true
   },
   "outputs": [
    {
     "name": "stderr",
     "output_type": "stream",
     "text": [
      "/Library/Frameworks/Python.framework/Versions/3.6/lib/python3.6/importlib/_bootstrap.py:219: RuntimeWarning: compiletime version 3.5 of module 'tensorflow.python.framework.fast_tensor_util' does not match runtime version 3.6\n  return f(*args, **kwds)\n"
     ]
    }
   ],
   "source": [
    "import random\n",
    "from utils.gann import Gann\n",
    "import utils.tflowtools as tft\n",
    "from utils.caseman import Caseman\n",
    "import tensorflow as tf\n",
    "\n",
    "data_set = [\n",
    "    [[2, 4, 5, 7], [1, 0]],\n",
    "    [[9, 1, 3, 7], [0, 1]],\n",
    "]\n",
    "input_size = len(data_set[0][0])\n",
    "output_size = len(data_set[0][1])\n",
    "\n",
    "cman = Caseman(\n",
    "    lambda: tft.gen_all_parity_cases(input_size),\n",
    ")"
   ]
  },
  {
   "cell_type": "markdown",
   "metadata": {
    "collapsed": true
   },
   "source": [
    "# Module 1\n",
    "\n",
    "## Required Parameters\n",
    "\n",
    "### Network dimension:\n",
    "A list of layer sizes. Each element specify the number\n",
    "of neurons in the corresponding layer.\n",
    " \n",
    "- The first elements specify \n",
    "the number of input neurons in the network and should\n",
    "be equal to the size of case vectors in the data set.\n",
    "- The subsequent (except the last) elements can be\n",
    "of arbitrary sizes and specify the sizes (number of \n",
    "neurons) of the hidden layers.\n",
    "- The last element specify the size (number of neurons)\n",
    "of the output (last hidden layer) and should be equal\n",
    "to the number of elements in the target vectors in the\n",
    "data set\n",
    "\n",
    "#### Format\n",
    "```python\n",
    "dims = [2, 4, 3, 4]\n",
    "# First element is equal to input size\n",
    "# Last element is equal to output size\n",
    "```\n",
    "\n",
    "#### Where to set\n",
    "```python\n",
    "Gann(dims, ...)\n",
    "```"
   ]
  },
  {
   "cell_type": "markdown",
   "metadata": {},
   "source": [
    "#### Example"
   ]
  },
  {
   "cell_type": "code",
   "execution_count": 3,
   "metadata": {},
   "outputs": [],
   "source": [
    "\n",
    "dims = [input_size, random.randint(1, 10), random.randint(1, 10), output_size]\n",
    "gann = Gann(dims, cman=cman)"
   ]
  },
  {
   "cell_type": "markdown",
   "metadata": {},
   "source": [
    "### Hidden activation function:\n",
    "A function that represents the activation function for the hidden layers in the network. \n",
    "\n",
    "#### Format\n",
    "```python\n",
    "tf.nn.relu\n",
    "tf.nn.relu6\n",
    "tf.nn.crelu\n",
    "tf.nn.elu\n",
    "tf.nn.selu\n",
    "tf.nn.softplus\n",
    "tf.nn.softsign\n",
    "tf.nn.dropout\n",
    "tf.nn.bias_add\n",
    "tf.sigmoid\n",
    "tf.tanh\n",
    "```\n",
    "\n",
    "#### Default\n",
    "```python\n",
    "tf.nn.relu\n",
    "```\n",
    "\n",
    "#### Where to set\n",
    "\n",
    "```python\n",
    "Gann(..., hidden_act_func)\n",
    "```"
   ]
  },
  {
   "cell_type": "markdown",
   "metadata": {},
   "source": [
    "#### Example"
   ]
  },
  {
   "cell_type": "code",
   "execution_count": 9,
   "metadata": {},
   "outputs": [],
   "source": [
    "gann = Gann(dims, cman=cman, hidden_act_func=tf.nn.sigmoid)"
   ]
  },
  {
   "cell_type": "markdown",
   "metadata": {},
   "source": [
    "### Output activation function:\n",
    "The activation function for the output layer\n",
    "\n",
    "#### Format\n",
    "```python\n",
    "tf.nn.relu\n",
    "tf.nn.relu6\n",
    "tf.nn.crelu\n",
    "tf.nn.elu\n",
    "tf.nn.selu\n",
    "tf.nn.softplus\n",
    "tf.nn.softsign\n",
    "tf.nn.dropout\n",
    "tf.nn.bias_add\n",
    "tf.sigmoid\n",
    "tf.tanh\n",
    "```\n",
    "\n",
    "#### Default\n",
    "```python\n",
    "tf.nn.relu\n",
    "```\n",
    "\n",
    "#### Where to set:\n",
    "\n",
    "```python\n",
    "Gann(..., output_act_func)\n",
    "```\n"
   ]
  },
  {
   "cell_type": "markdown",
   "metadata": {},
   "source": [
    "#### Example"
   ]
  },
  {
   "cell_type": "code",
   "execution_count": 6,
   "metadata": {},
   "outputs": [],
   "source": [
    "gann = Gann(dims=dims, cman=cman, output_act_func=tf.nn.softmax)"
   ]
  },
  {
   "cell_type": "markdown",
   "metadata": {},
   "source": [
    "### Cost function\n",
    "*Also called a loss function.*\n",
    "Can be either of \n",
    "* A string specifying the cost function\n",
    "* A lambda function that accepts two arguments; (target, output) and returns the error/loss/cost\n",
    "\n",
    "#### Format\n",
    "```python\n",
    "# string\n",
    "\"mse\" # mean squared error\n",
    "\"scel\" # sigmoid cross entropy (reduced mean)\n",
    "\"smce\" # softmax cross entropy (reduce mean)\n",
    "\n",
    "# function\n",
    "lambda target, output : tf.reduce_mean(tf.square(target-output))\n",
    "```\n",
    "\n",
    "#### Default\n",
    "```python\n",
    "tf.reduce_mean(tf.square(self.target - self.output))\n",
    "```\n",
    "\n",
    "#### Where to set\n",
    "\n",
    "```python\n",
    "Gann(..., cost_func)\n",
    "```"
   ]
  },
  {
   "cell_type": "markdown",
   "metadata": {},
   "source": [
    "#### Example"
   ]
  },
  {
   "cell_type": "code",
   "execution_count": 6,
   "metadata": {},
   "outputs": [],
   "source": [
    "cost_func = lambda target, output: tf.losses.softmax_cross_entropy(onehot_labels=target, logits=output)\n",
    "gann = Gann(dims=dims, cman=cman, cost_func=cost_func)"
   ]
  },
  {
   "cell_type": "markdown",
   "metadata": {},
   "source": [
    "### Learning rate\n",
    "Sets the learning rate of the neural network\n",
    "\n",
    "#### Format\n",
    "```python\n",
    "lrate = 0.1\n",
    "lrate = 0.3\n",
    "lrate = 0.01\n",
    "```\n",
    "\n",
    "##### Default\n",
    "```python\n",
    "lrate = 0.1\n",
    "```\n",
    "\n",
    "#### Where to set\n",
    "\n",
    "```python\n",
    "Gann(..., lrate)\n",
    "```"
   ]
  },
  {
   "cell_type": "code",
   "execution_count": 7,
   "metadata": {},
   "outputs": [],
   "source": [
    "#### Example"
   ]
  },
  {
   "cell_type": "code",
   "execution_count": 8,
   "metadata": {},
   "outputs": [],
   "source": [
    "lrate = 0.2\n",
    "gann = Gann(dims=dims, cman=cman, lrate=lrate)"
   ]
  },
  {
   "cell_type": "markdown",
   "metadata": {},
   "source": [
    "### Initial weight range:\n",
    "Sets the range for the random chosen initial weights in the network\n",
    "\n",
    "#### Format\n",
    "```python\n",
    "init_weight_range=[-1.0, 1.0]\n",
    "```\n",
    "\n",
    "#### Default\n",
    "```python\n",
    "init_weight_range=[-.1, .1]\n",
    "```\n",
    "\n",
    "#### Where to set:\n",
    "```python\n",
    "Gann(..., init_weight_range)\n",
    "```"
   ]
  },
  {
   "cell_type": "markdown",
   "metadata": {},
   "source": [
    "### Example"
   ]
  },
  {
   "cell_type": "code",
   "execution_count": 9,
   "metadata": {},
   "outputs": [],
   "source": [
    "init_weight_range = [-1.0, 1.0]\n",
    "gann = Gann(dims=dims, cman=cman, init_weight_range=init_weight_range)"
   ]
  },
  {
   "cell_type": "markdown",
   "metadata": {},
   "source": [
    "### Optimizer\n",
    "Sets the optimizer function for which will minimize the error. The function must be callable with \"minimize(lrate)\"\n",
    "\n",
    "#### Format\n",
    "```python\n",
    "tf.train.Optimizer\n",
    "tf.train.GradientDescentOptimizer\n",
    "tf.train.AdadeltaOptimizer\n",
    "tf.train.AdagradOptimizer\n",
    "tf.train.AdagradDAOptimizer\n",
    "tf.train.MomentumOptimizer\n",
    "tf.train.AdamOptimizer\n",
    "tf.train.FtrlOptimizer\n",
    "tf.train.ProximalGradientDescentOptimizer\n",
    "tf.train.ProximalAdagradOptimizer\n",
    "tf.train.RMSPropOptimizer\n",
    "```\n",
    "\n",
    "#### Default\n",
    "```python\n",
    "tf.train.GradientDescentOptimizer\n",
    "```\n",
    "\n",
    "##### Where to set:\n",
    "```python\n",
    "Gann(..., optimizer)\n",
    "```"
   ]
  },
  {
   "cell_type": "markdown",
   "metadata": {},
   "source": [
    "### Example"
   ]
  },
  {
   "cell_type": "code",
   "execution_count": 10,
   "metadata": {},
   "outputs": [],
   "source": [
    "optimizer = tf.train.AdagradOptimizer\n",
    "gann = Gann(dims=dims, cman=cman, optimizer=optimizer)"
   ]
  },
  {
   "cell_type": "markdown",
   "metadata": {},
   "source": [
    "### Data source\n",
    "\n",
    "The data source is passed to the Gann-initializer as a Caseman instance. The Caseman initializer takes four arguments:\n",
    "* cfunc: a callable function with no arguments which returns a list of cases from the data source in the form (<feature_vector>, <label_vector>)\n",
    "* vfrac (optional, default: 0): the fraction of the cases to be used for validation\n",
    "* tfrac (optional, default: 0): the fraction of the cases to be used for testing\n",
    "* cfrac (optional, default: 0): the fraction of the cases to be used. This can be handy if the data source is very large and you only want to consider a fraction of the cases for training, validation and testing\n",
    "\n",
    "#### Format\n",
    "```python\n",
    "lambda: tft.gen_vector_shift_cases(vlen, count, dir=1, delta=1, density=0.5)\n",
    "lambda: tft.gen_symvect_cases(vlen, count, label=1)\n",
    "lambda: tft.gen_anti_symvect_cases(vlen, count, label=0)\n",
    "lambda: tft.gen_all_one_hot_cases(len, floats=False)\n",
    "lambda: tft.gen_dense_autoencoder_cases(count, size, dr=(0, 1))\n",
    "lambda: tft.gen_all_parity_cases(num_bits, double=True)\n",
    "lambda: tft.gen_vector_count_cases(num, size, drange=(0, 1), random=True, poptarg=True)\n",
    "lambda: tft.gen_all_binary_count_cases(size, poptarg=True): return gen_vector_count_cases(None, size, random=False, poptarg=poptarg)\n",
    "lambda: tft.gen_random_line_cases(num_cases, dims, min_lines=1, min_opens=1, bias=1.0, mode='classify', line_item=1, background=0, flat=True, floats=False)\n",
    "lembda: tft.gen_segmented_vector_cases(vectorlen, count, minsegs, maxsegs, poptargs=True)\n",
    "```\n",
    "\n",
    "#### Where to set\n",
    "```python\n",
    "cman = Caseman(cfunc, vfrac, tfrac, cfrac)\n",
    "gann = Gann(dims=dims, cman=cman)\n",
    "```"
   ]
  },
  {
   "cell_type": "markdown",
   "metadata": {},
   "source": [
    "### Example"
   ]
  },
  {
   "cell_type": "code",
   "execution_count": 4,
   "metadata": {},
   "outputs": [],
   "source": [
    "cfunc = lambda: tft.gen_all_parity_cases(num_bits=8)\n",
    "\n",
    "cman = Caseman(cfunc=cfunc)\n",
    "\n",
    "gann = Gann(dims=dims, cman=cman)"
   ]
  },
  {
   "cell_type": "markdown",
   "metadata": {},
   "source": [
    "### Case fraction:\n",
    "The fraction of the whole data set to consider as cases for training, validation and testing.\n",
    "\n",
    "#### Where to set:\n",
    "```python\n",
    "Caseman(..., cfrac)\n",
    "```\n",
    "#### Format\n",
    "```python\n",
    "0.8\n",
    "0.5\n",
    "```\n",
    "\n",
    "#### Default\n",
    "```python\n",
    "1.0 # the whole data set\n",
    "```\n",
    "\n",
    "\n",
    "### Validation fraction:\n",
    "The fraction of the cases to be used for validation.\n",
    "\n",
    "#### Where to set:\n",
    "```python\n",
    "Caseman(..., vfrac)\n",
    "```\n",
    "\n",
    "##### Format:\n",
    "```python\n",
    "0.1\n",
    "0.2\n",
    "```\n",
    "\n",
    "##### Default:\n",
    "```python\n",
    "0.0\n",
    "```\n"
   ]
  },
  {
   "cell_type": "markdown",
   "metadata": {},
   "source": [
    "### Validation interval\n",
    "Number of training minibatches between each validation test\n",
    "\n",
    "#### Format\n",
    "```python\n",
    "vint = 10\n",
    "vint = 100\n",
    "vint = 1000\n",
    "```\n",
    "\n",
    "#### Default\n",
    "```python\n",
    "None\n",
    "```\n",
    "\n",
    "#### Where to set\n",
    "```python\n",
    "vint = 100\n",
    "gann = Gann(vint=vint)\n",
    "```\n",
    "\n",
    "#### Example"
   ]
  },
  {
   "cell_type": "code",
   "execution_count": 5,
   "metadata": {},
   "outputs": [],
   "source": [
    "vint = 100\n",
    "gann = Gann(dims=dims, cman=cman, vint=vint)"
   ]
  },
  {
   "cell_type": "markdown",
   "metadata": {},
   "source": []
  }
 ],
 "metadata": {
  "kernelspec": {
   "display_name": "Python 3",
   "language": "python",
   "name": "python3"
  },
  "language_info": {
   "codemirror_mode": {
    "name": "ipython",
    "version": 3
   },
   "file_extension": ".py",
   "mimetype": "text/x-python",
   "name": "python",
   "nbconvert_exporter": "python",
   "pygments_lexer": "ipython3",
   "version": "3.6.6"
  }
 },
 "nbformat": 4,
 "nbformat_minor": 1
}
